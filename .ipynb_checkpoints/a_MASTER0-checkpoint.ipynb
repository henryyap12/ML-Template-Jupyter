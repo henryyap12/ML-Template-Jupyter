{
 "cells": [
  {
   "cell_type": "code",
   "execution_count": 1,
   "metadata": {},
   "outputs": [],
   "source": [
    "import print_n_log"
   ]
  },
  {
   "cell_type": "code",
   "execution_count": 2,
   "metadata": {},
   "outputs": [],
   "source": [
    "# Parameters for Preprocessing Notebook\n",
    "#---------------------------------------------\n",
    "IS_MASTER = True # Remember this? We need to set this to True in MASTER Notebook so that it does not use the default parameters in processing notebook.\n",
    "RAW_FILE = f'/path/to/smallData.csv' # use \"small data\" here\n",
    "DATA_DIR = './data/'\n",
    "\n",
    "PROCESSED_FILE = f'{DATA_DIR}processed.pkl' # always use pickle for fast I/O!\n",
    "OTHER_PREPROCESS_PARAMETER = ... # like batch size, sliding\n",
    "\n",
    "# Let's save the original print method in ori_print\n",
    "#---------------------------------------------------\n",
    "ori_print = print\n",
    "\n",
    "# Now we set the print method to be modified print\n",
    "#--------------------------------------------------\n",
    "print = print_n_log.run('preproc', './logs/experiment1.log', 'DEBUG')"
   ]
  },
  {
   "cell_type": "code",
   "execution_count": 3,
   "metadata": {},
   "outputs": [],
   "source": [
    "# import the necessary packages\n",
    "from tensorflow.keras.preprocessing.image import ImageDataGenerator\n",
    "from tensorflow.keras.applications import MobileNetV2\n",
    "from tensorflow.keras.layers import AveragePooling2D\n",
    "from tensorflow.keras.layers import Dropout\n",
    "from tensorflow.keras.layers import Flatten\n",
    "from tensorflow.keras.layers import Dense\n",
    "from tensorflow.keras.layers import Input\n",
    "from tensorflow.keras.models import Model\n",
    "from tensorflow.keras.optimizers import Adam\n",
    "from tensorflow.keras.applications.mobilenet_v2 import preprocess_input\n",
    "from tensorflow.keras.preprocessing.image import img_to_array\n",
    "from tensorflow.keras.preprocessing.image import load_img\n",
    "from tensorflow.keras.utils import to_categorical\n",
    "from sklearn.preprocessing import LabelBinarizer\n",
    "from sklearn.model_selection import train_test_split\n",
    "from sklearn.metrics import classification_report\n",
    "from imutils import paths\n",
    "import matplotlib.pyplot as plt\n",
    "import numpy as np\n",
    "import argparse\n",
    "import os"
   ]
  },
  {
   "cell_type": "code",
   "execution_count": 4,
   "metadata": {},
   "outputs": [],
   "source": [
    "# initialize the initial learning rate, number of epochs to train for,\n",
    "# and batch size\n",
    "INIT_LR = 1e-4\n",
    "EPOCHS = 20\n",
    "BS = 32"
   ]
  },
  {
   "cell_type": "code",
   "execution_count": 5,
   "metadata": {
    "scrolled": true
   },
   "outputs": [],
   "source": [
    "datasetPath = \"data\"\n",
    "plotPath = \"exp/exp1/plot.png\"\n",
    "modelPath = \"exp/exp1/mask_detector.model\""
   ]
  },
  {
   "cell_type": "code",
   "execution_count": 6,
   "metadata": {},
   "outputs": [
    {
     "name": "stderr",
     "output_type": "stream",
     "text": [
      "2020-10-06 10:29:46,037 - preproc - INFO - [INFO] loading images...\n"
     ]
    }
   ],
   "source": [
    "# Now, we run the Model Notebook using the %run magic (You can change your model based on your self-defined architecture)\n",
    "#-------------------------------------------------------------\n",
    "%run \"b_preprocess.ipynb\""
   ]
  },
  {
   "cell_type": "code",
   "execution_count": 7,
   "metadata": {},
   "outputs": [
    {
     "name": "stderr",
     "output_type": "stream",
     "text": [
      "C:\\Users\\user\\Anaconda3\\envs\\dlgpu\\lib\\site-packages\\keras_applications\\mobilenet_v2.py:294: UserWarning: `input_shape` is undefined or non-square, or `rows` is not in [96, 128, 160, 192, 224]. Weights for input shape (224, 224) will be loaded as the default.\n",
      "  warnings.warn('`input_shape` is undefined or non-square, '\n"
     ]
    }
   ],
   "source": [
    "# Now, we run the Model Notebook using the %run magic (You can change your model based on your self-defined architecture)\n",
    "#-------------------------------------------------------------\n",
    "%run \"c_model_cnn.ipynb\""
   ]
  },
  {
   "cell_type": "code",
   "execution_count": 8,
   "metadata": {},
   "outputs": [],
   "source": [
    "# place the head FC model on top of the base model (this will become the actual model we will train)\n",
    "# use the variable baseModel and headModel\n",
    "model = Model(inputs=baseModel.input, outputs=headModel)"
   ]
  },
  {
   "cell_type": "code",
   "execution_count": 9,
   "metadata": {},
   "outputs": [],
   "source": [
    "# loop over all layers in the base model and freeze them so they will\n",
    "# *not* be updated during the first training process\n",
    "for layer in baseModel.layers:\n",
    "    layer.trainable = False"
   ]
  },
  {
   "cell_type": "code",
   "execution_count": 10,
   "metadata": {},
   "outputs": [
    {
     "name": "stderr",
     "output_type": "stream",
     "text": [
      "2020-10-06 10:29:49,122 - preproc - INFO - [INFO] compiling model...\n"
     ]
    }
   ],
   "source": [
    "# compile our model\n",
    "print(\"[INFO] compiling model...\")\n",
    "opt = Adam(lr=INIT_LR, decay=INIT_LR / EPOCHS)\n",
    "model.compile(loss=\"binary_crossentropy\", optimizer=opt, metrics=[\"accuracy\"])"
   ]
  },
  {
   "cell_type": "code",
   "execution_count": 11,
   "metadata": {},
   "outputs": [
    {
     "name": "stderr",
     "output_type": "stream",
     "text": [
      "2020-10-06 10:29:49,191 - preproc - INFO - [INFO] training head...\n"
     ]
    },
    {
     "name": "stdout",
     "output_type": "stream",
     "text": [
      "WARNING:tensorflow:sample_weight modes were coerced from\n",
      "  ...\n",
      "    to  \n",
      "  ['...']\n",
      "Train for 5 steps, validate on 41 samples\n",
      "Epoch 1/20\n",
      "5/5 [==============================] - 5s 939ms/step - loss: 0.9552 - accuracy: 0.5063 - val_loss: 0.3808 - val_accuracy: 0.7500\n",
      "Epoch 2/20\n",
      "5/5 [==============================] - 1s 296ms/step - loss: 0.7083 - accuracy: 0.6947 - val_loss: 0.3182 - val_accuracy: 0.8750\n",
      "Epoch 3/20\n",
      "5/5 [==============================] - 2s 316ms/step - loss: 0.6264 - accuracy: 0.6412 - val_loss: 0.2903 - val_accuracy: 0.9062\n",
      "Epoch 4/20\n",
      "5/5 [==============================] - 2s 362ms/step - loss: 0.6351 - accuracy: 0.6500 - val_loss: 0.2414 - val_accuracy: 1.0000\n",
      "Epoch 5/20\n",
      "5/5 [==============================] - 1s 298ms/step - loss: 0.6040 - accuracy: 0.7405 - val_loss: 0.2082 - val_accuracy: 0.9375\n",
      "Epoch 6/20\n",
      "5/5 [==============================] - 2s 323ms/step - loss: 0.4646 - accuracy: 0.7634 - val_loss: 0.1887 - val_accuracy: 0.9375\n",
      "Epoch 7/20\n",
      "5/5 [==============================] - 2s 337ms/step - loss: 0.4261 - accuracy: 0.8015 - val_loss: 0.1690 - val_accuracy: 1.0000\n",
      "Epoch 8/20\n",
      "5/5 [==============================] - 2s 393ms/step - loss: 0.4001 - accuracy: 0.8250 - val_loss: 0.1585 - val_accuracy: 1.0000\n",
      "Epoch 9/20\n",
      "5/5 [==============================] - 1s 296ms/step - loss: 0.3741 - accuracy: 0.8397 - val_loss: 0.1452 - val_accuracy: 1.0000\n",
      "Epoch 10/20\n",
      "5/5 [==============================] - 2s 322ms/step - loss: 0.3397 - accuracy: 0.8550 - val_loss: 0.1382 - val_accuracy: 1.0000\n",
      "Epoch 11/20\n",
      "5/5 [==============================] - 2s 304ms/step - loss: 0.3393 - accuracy: 0.8626 - val_loss: 0.1331 - val_accuracy: 1.0000\n",
      "Epoch 12/20\n",
      "5/5 [==============================] - 2s 314ms/step - loss: 0.4444 - accuracy: 0.8321 - val_loss: 0.1219 - val_accuracy: 1.0000\n",
      "Epoch 13/20\n",
      "5/5 [==============================] - 2s 313ms/step - loss: 0.3211 - accuracy: 0.8550 - val_loss: 0.1128 - val_accuracy: 1.0000\n",
      "Epoch 14/20\n",
      "5/5 [==============================] - 2s 374ms/step - loss: 0.2544 - accuracy: 0.9000 - val_loss: 0.1091 - val_accuracy: 1.0000\n",
      "Epoch 15/20\n",
      "5/5 [==============================] - 2s 340ms/step - loss: 0.2837 - accuracy: 0.9000 - val_loss: 0.1115 - val_accuracy: 1.0000\n",
      "Epoch 16/20\n",
      "5/5 [==============================] - 1s 291ms/step - loss: 0.2716 - accuracy: 0.8779 - val_loss: 0.1107 - val_accuracy: 1.0000\n",
      "Epoch 17/20\n",
      "5/5 [==============================] - 2s 316ms/step - loss: 0.2809 - accuracy: 0.9160 - val_loss: 0.0968 - val_accuracy: 1.0000\n",
      "Epoch 18/20\n",
      "5/5 [==============================] - 2s 315ms/step - loss: 0.2104 - accuracy: 0.9237 - val_loss: 0.0916 - val_accuracy: 1.0000\n",
      "Epoch 19/20\n",
      "5/5 [==============================] - 2s 363ms/step - loss: 0.2452 - accuracy: 0.9125 - val_loss: 0.0852 - val_accuracy: 1.0000\n",
      "Epoch 20/20\n",
      "5/5 [==============================] - 1s 293ms/step - loss: 0.2244 - accuracy: 0.9008 - val_loss: 0.0907 - val_accuracy: 1.0000\n"
     ]
    }
   ],
   "source": [
    "# train the head of the network\n",
    "print(\"[INFO] training head...\")\n",
    "H = model.fit(\n",
    "    aug.flow(trainX, trainY, batch_size=BS),\n",
    "    steps_per_epoch=len(trainX) // BS,\n",
    "    validation_data=(testX, testY),\n",
    "    validation_steps=len(testX) // BS,\n",
    "    epochs=EPOCHS)"
   ]
  },
  {
   "cell_type": "code",
   "execution_count": 12,
   "metadata": {},
   "outputs": [
    {
     "name": "stderr",
     "output_type": "stream",
     "text": [
      "2020-10-06 10:30:25,226 - preproc - INFO - [INFO] evaluating network...\n"
     ]
    }
   ],
   "source": [
    "# make predictions on the testing set\n",
    "print(\"[INFO] evaluating network...\")\n",
    "predIdxs = model.predict(testX, batch_size=BS)"
   ]
  },
  {
   "cell_type": "code",
   "execution_count": 13,
   "metadata": {},
   "outputs": [],
   "source": [
    "# for each image in the testing set we need to find the index of the\n",
    "# label with corresponding largest predicted probability\n",
    "predIdxs = np.argmax(predIdxs, axis=1)"
   ]
  },
  {
   "cell_type": "code",
   "execution_count": 14,
   "metadata": {},
   "outputs": [
    {
     "name": "stderr",
     "output_type": "stream",
     "text": [
      "2020-10-06 10:30:26,383 - preproc - INFO -               precision    recall  f1-score   support\n",
      "\n",
      "   with_mask       0.92      1.00      0.96        22\n",
      "without_mask       1.00      0.89      0.94        19\n",
      "\n",
      "    accuracy                           0.95        41\n",
      "   macro avg       0.96      0.95      0.95        41\n",
      "weighted avg       0.96      0.95      0.95        41\n",
      "\n"
     ]
    }
   ],
   "source": [
    "# show a nicely formatted classification report\n",
    "print(classification_report(testY.argmax(axis=1), predIdxs, target_names=lb.classes_))"
   ]
  },
  {
   "cell_type": "code",
   "execution_count": 15,
   "metadata": {},
   "outputs": [
    {
     "name": "stderr",
     "output_type": "stream",
     "text": [
      "2020-10-06 10:30:26,400 - preproc - INFO - [INFO] saving mask detector model...\n"
     ]
    }
   ],
   "source": [
    "# serialize the model to disk\n",
    "print(\"[INFO] saving mask detector model...\")\n",
    "model.save(modelPath, save_format=\"h5\")"
   ]
  },
  {
   "cell_type": "code",
   "execution_count": 16,
   "metadata": {},
   "outputs": [
    {
     "data": {
      "image/png": "[encoded data removed]",
      "text/plain": [
       "<Figure size 432x288 with 1 Axes>"
      ]
     },
     "metadata": {},
     "output_type": "display_data"
    }
   ],
   "source": [
    "# plot the training loss and accuracy\n",
    "N = EPOCHS\n",
    "plt.style.use(\"ggplot\")\n",
    "plt.figure()\n",
    "plt.plot(np.arange(0, N), H.history[\"loss\"], label=\"train_loss\")\n",
    "plt.plot(np.arange(0, N), H.history[\"val_loss\"], label=\"val_loss\")\n",
    "plt.plot(np.arange(0, N), H.history[\"accuracy\"], label=\"train_acc\")\n",
    "plt.plot(np.arange(0, N), H.history[\"val_accuracy\"], label=\"val_acc\")\n",
    "plt.title(\"Training Loss and Accuracy\")\n",
    "plt.xlabel(\"Epoch #\")\n",
    "plt.ylabel(\"Loss/Accuracy\")\n",
    "plt.legend(loc=\"lower left\")\n",
    "plt.savefig(plotPath)"
   ]
  },
  {
   "cell_type": "code",
   "execution_count": null,
   "metadata": {},
   "outputs": [],
   "source": []
  }
 ],
 "metadata": {
  "kernelspec": {
   "display_name": "Python 3",
   "language": "python",
   "name": "python3"
  },
  "language_info": {
   "codemirror_mode": {
    "name": "ipython",
    "version": 3
   },
   "file_extension": ".py",
   "mimetype": "text/x-python",
   "name": "python",
   "nbconvert_exporter": "python",
   "pygments_lexer": "ipython3",
   "version": "3.6.10"
  }
 },
 "nbformat": 4,
 "nbformat_minor": 4
}
