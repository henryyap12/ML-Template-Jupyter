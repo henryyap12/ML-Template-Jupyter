{
 "cells": [
  {
   "cell_type": "code",
   "execution_count": 1,
   "metadata": {},
   "outputs": [],
   "source": [
    "import print_n_log\n",
    "\n",
    "# Parameters for Preprocessing Notebook\n",
    "#---------------------------------------------\n",
    "IS_MASTER = True # Remember this? We need to set this to True in MASTER Notebook so that it does not use the default parameters in processing notebook.\n",
    "RAW_FILE = f'/path/to/smallData.csv' # use \"small data\" here\n",
    "DATA_DIR = './data/'\n",
    "\n",
    "PROCESSED_FILE = f'{DATA_DIR}processed.pkl' # always use pickle for fast I/O!\n",
    "OTHER_PREPROCESS_PARAMETER = ... # like batch size, sliding\n",
    "\n",
    "# Let's save the original print method in ori_print\n",
    "#---------------------------------------------------\n",
    "ori_print = print\n",
    "\n",
    "# Now we set the print method to be modified print\n",
    "#--------------------------------------------------\n",
    "print = print_n_log.run('preproc', './logs/experiment1.log', 'DEBUG')"
   ]
  },
  {
   "cell_type": "code",
   "execution_count": 4,
   "metadata": {},
   "outputs": [
    {
     "name": "stderr",
     "output_type": "stream",
     "text": [
      "2020-10-06 11:17:23,039 - preproc - INFO - [INFO] loading face detector model...\n",
      "2020-10-06 11:17:23,373 - preproc - INFO - [INFO] loading face mask detector model...\n",
      "2020-10-06 11:17:25,706 - preproc - INFO - [INFO] computing face detections...\n"
     ]
    }
   ],
   "source": [
    "# Now, we run the Model Notebook using the %run magic (You can change your model based on your self-defined architecture)\n",
    "#-------------------------------------------------------------\n",
    "%run \"d_reporting.ipynb\""
   ]
  },
  {
   "cell_type": "code",
   "execution_count": null,
   "metadata": {},
   "outputs": [],
   "source": []
  }
 ],
 "metadata": {
  "kernelspec": {
   "display_name": "Python 3",
   "language": "python",
   "name": "python3"
  },
  "language_info": {
   "codemirror_mode": {
    "name": "ipython",
    "version": 3
   },
   "file_extension": ".py",
   "mimetype": "text/x-python",
   "name": "python",
   "nbconvert_exporter": "python",
   "pygments_lexer": "ipython3",
   "version": "3.6.10"
  }
 },
 "nbformat": 4,
 "nbformat_minor": 4
}
