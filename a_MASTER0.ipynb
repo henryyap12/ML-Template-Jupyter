{
 "cells": [
  {
   "cell_type": "code",
   "execution_count": 1,
   "metadata": {},
   "outputs": [],
   "source": [
    "import print_n_log"
   ]
  },
  {
   "cell_type": "code",
   "execution_count": 2,
   "metadata": {},
   "outputs": [],
   "source": [
    "# Parameters for Preprocessing Notebook\n",
    "#---------------------------------------------\n",
    "IS_MASTER = True # Remember this? We need to set this to True in MASTER Notebook so that it does not use the default parameters in processing notebook.\n",
    "RAW_FILE = f'/path/to/smallData.csv' # use \"small data\" here\n",
    "DATA_DIR = './data/'\n",
    "\n",
    "PROCESSED_FILE = f'{DATA_DIR}processed.pkl' # always use pickle for fast I/O!\n",
    "OTHER_PREPROCESS_PARAMETER = ... # like batch size, sliding\n",
    "\n",
    "# Let's save the original print method in ori_print\n",
    "#---------------------------------------------------\n",
    "ori_print = print\n",
    "\n",
    "# Now we set the print method to be modified print\n",
    "#--------------------------------------------------\n",
    "print = print_n_log.run('preproc', './logs/experiment1.log', 'DEBUG')"
   ]
  },
  {
   "cell_type": "code",
   "execution_count": 3,
   "metadata": {},
   "outputs": [],
   "source": [
    "# import the necessary packages\n",
    "from tensorflow.keras.preprocessing.image import ImageDataGenerator\n",
    "from tensorflow.keras.applications import MobileNetV2\n",
    "from tensorflow.keras.layers import AveragePooling2D\n",
    "from tensorflow.keras.layers import Dropout\n",
    "from tensorflow.keras.layers import Flatten\n",
    "from tensorflow.keras.layers import Dense\n",
    "from tensorflow.keras.layers import Input\n",
    "from tensorflow.keras.models import Model\n",
    "from tensorflow.keras.optimizers import Adam\n",
    "from tensorflow.keras.applications.mobilenet_v2 import preprocess_input\n",
    "from tensorflow.keras.preprocessing.image import img_to_array\n",
    "from tensorflow.keras.preprocessing.image import load_img\n",
    "from tensorflow.keras.utils import to_categorical\n",
    "from sklearn.preprocessing import LabelBinarizer\n",
    "from sklearn.model_selection import train_test_split\n",
    "from sklearn.metrics import classification_report\n",
    "from imutils import paths\n",
    "import matplotlib.pyplot as plt\n",
    "import numpy as np\n",
    "import argparse\n",
    "import os"
   ]
  },
  {
   "cell_type": "code",
   "execution_count": 4,
   "metadata": {},
   "outputs": [],
   "source": [
    "# initialize the initial learning rate, number of epochs to train for,\n",
    "# and batch size\n",
    "INIT_LR = 1e-4\n",
    "EPOCHS = 20\n",
    "BS = 32"
   ]
  },
  {
   "cell_type": "code",
   "execution_count": 5,
   "metadata": {
    "scrolled": true
   },
   "outputs": [],
   "source": [
    "plotPath = \"exp/exp1/plot.png\"\n",
    "modelPath = \"exp/exp1/mask_detector.model\""
   ]
  },
  {
   "cell_type": "code",
   "execution_count": 6,
   "metadata": {},
   "outputs": [
    {
     "name": "stderr",
     "output_type": "stream",
     "text": [
      "2020-10-06 10:43:58,691 - preproc - INFO - [MASTER] using big dataset...\n",
      "2020-10-06 10:43:58,697 - preproc - INFO - [INFO] loading images...\n"
     ]
    }
   ],
   "source": [
    "# Now, we run the Model Notebook using the %run magic (You can change your model based on your self-defined architecture)\n",
    "#-------------------------------------------------------------\n",
    "%run \"b_preprocess.ipynb\""
   ]
  },
  {
   "cell_type": "code",
   "execution_count": 7,
   "metadata": {},
   "outputs": [
    {
     "name": "stderr",
     "output_type": "stream",
     "text": [
      "C:\\Users\\user\\Anaconda3\\envs\\dlgpu\\lib\\site-packages\\keras_applications\\mobilenet_v2.py:294: UserWarning: `input_shape` is undefined or non-square, or `rows` is not in [96, 128, 160, 192, 224]. Weights for input shape (224, 224) will be loaded as the default.\n",
      "  warnings.warn('`input_shape` is undefined or non-square, '\n"
     ]
    }
   ],
   "source": [
    "# Now, we run the Model Notebook using the %run magic (You can change your model based on your self-defined architecture)\n",
    "#-------------------------------------------------------------\n",
    "%run \"c_model_cnn.ipynb\""
   ]
  },
  {
   "cell_type": "code",
   "execution_count": 8,
   "metadata": {},
   "outputs": [
    {
     "name": "stderr",
     "output_type": "stream",
     "text": [
      "2020-10-06 10:44:05,632 - preproc - INFO - [INFO] compiling model...\n"
     ]
    }
   ],
   "source": [
    "# compile our model\n",
    "print(\"[INFO] compiling model...\")\n",
    "opt = Adam(lr=INIT_LR, decay=INIT_LR / EPOCHS)\n",
    "model.compile(loss=\"binary_crossentropy\", optimizer=opt, metrics=[\"accuracy\"])"
   ]
  },
  {
   "cell_type": "code",
   "execution_count": 9,
   "metadata": {},
   "outputs": [
    {
     "name": "stderr",
     "output_type": "stream",
     "text": [
      "2020-10-06 10:44:05,697 - preproc - INFO - [INFO] training head...\n"
     ]
    },
    {
     "name": "stdout",
     "output_type": "stream",
     "text": [
      "WARNING:tensorflow:sample_weight modes were coerced from\n",
      "  ...\n",
      "    to  \n",
      "  ['...']\n",
      "Train for 34 steps, validate on 276 samples\n",
      "Epoch 1/20\n",
      "34/34 [==============================] - 14s 408ms/step - loss: 0.7621 - accuracy: 0.5852 - val_loss: 0.4628 - val_accuracy: 0.7695\n",
      "Epoch 2/20\n",
      "34/34 [==============================] - 11s 327ms/step - loss: 0.4266 - accuracy: 0.8127 - val_loss: 0.2720 - val_accuracy: 0.9062\n",
      "Epoch 3/20\n",
      "34/34 [==============================] - 11s 330ms/step - loss: 0.3179 - accuracy: 0.8736 - val_loss: 0.2321 - val_accuracy: 0.9180\n",
      "Epoch 4/20\n",
      "34/34 [==============================] - 11s 325ms/step - loss: 0.2436 - accuracy: 0.9073 - val_loss: 0.1596 - val_accuracy: 0.9531\n",
      "Epoch 5/20\n",
      "34/34 [==============================] - 11s 328ms/step - loss: 0.1975 - accuracy: 0.9298 - val_loss: 0.1240 - val_accuracy: 0.9727\n",
      "Epoch 6/20\n",
      "34/34 [==============================] - 11s 334ms/step - loss: 0.1830 - accuracy: 0.9363 - val_loss: 0.1093 - val_accuracy: 0.9688\n",
      "Epoch 7/20\n",
      "34/34 [==============================] - 11s 325ms/step - loss: 0.1644 - accuracy: 0.9373 - val_loss: 0.1051 - val_accuracy: 0.9727\n",
      "Epoch 8/20\n",
      "34/34 [==============================] - 11s 334ms/step - loss: 0.1357 - accuracy: 0.9531 - val_loss: 0.0802 - val_accuracy: 0.9805\n",
      "Epoch 9/20\n",
      "34/34 [==============================] - 12s 347ms/step - loss: 0.1350 - accuracy: 0.9522 - val_loss: 0.0808 - val_accuracy: 0.9805\n",
      "Epoch 10/20\n",
      "34/34 [==============================] - 13s 372ms/step - loss: 0.1216 - accuracy: 0.9513 - val_loss: 0.0947 - val_accuracy: 0.9727\n",
      "Epoch 11/20\n",
      "34/34 [==============================] - 13s 390ms/step - loss: 0.1273 - accuracy: 0.9419 - val_loss: 0.0819 - val_accuracy: 0.9844\n",
      "Epoch 12/20\n",
      "34/34 [==============================] - 12s 343ms/step - loss: 0.1008 - accuracy: 0.9644 - val_loss: 0.0719 - val_accuracy: 0.9805\n",
      "Epoch 13/20\n",
      "34/34 [==============================] - 12s 340ms/step - loss: 0.0917 - accuracy: 0.9719 - val_loss: 0.0723 - val_accuracy: 0.9844\n",
      "Epoch 14/20\n",
      "34/34 [==============================] - 12s 349ms/step - loss: 0.1006 - accuracy: 0.9663 - val_loss: 0.0600 - val_accuracy: 0.9805\n",
      "Epoch 15/20\n",
      "34/34 [==============================] - 11s 337ms/step - loss: 0.0764 - accuracy: 0.9757 - val_loss: 0.0756 - val_accuracy: 0.9766\n",
      "Epoch 16/20\n",
      "34/34 [==============================] - 12s 354ms/step - loss: 0.0809 - accuracy: 0.9757 - val_loss: 0.0572 - val_accuracy: 0.9844\n",
      "Epoch 17/20\n",
      "34/34 [==============================] - 12s 350ms/step - loss: 0.0798 - accuracy: 0.9700 - val_loss: 0.0697 - val_accuracy: 0.9766\n",
      "Epoch 18/20\n",
      "34/34 [==============================] - 11s 328ms/step - loss: 0.0997 - accuracy: 0.9579 - val_loss: 0.0571 - val_accuracy: 0.9883\n",
      "Epoch 19/20\n",
      "34/34 [==============================] - 11s 337ms/step - loss: 0.0911 - accuracy: 0.9616 - val_loss: 0.0477 - val_accuracy: 0.9844\n",
      "Epoch 20/20\n",
      "34/34 [==============================] - 11s 335ms/step - loss: 0.0704 - accuracy: 0.9710 - val_loss: 0.0637 - val_accuracy: 0.9805\n"
     ]
    }
   ],
   "source": [
    "# train the head of the network\n",
    "print(\"[INFO] training head...\")\n",
    "H = model.fit(\n",
    "    aug.flow(trainX, trainY, batch_size=BS),\n",
    "    steps_per_epoch=len(trainX) // BS,\n",
    "    validation_data=(testX, testY),\n",
    "    validation_steps=len(testX) // BS,\n",
    "    epochs=EPOCHS)"
   ]
  },
  {
   "cell_type": "code",
   "execution_count": 10,
   "metadata": {},
   "outputs": [
    {
     "name": "stderr",
     "output_type": "stream",
     "text": [
      "2020-10-06 10:48:00,467 - preproc - INFO - [INFO] evaluating network...\n"
     ]
    }
   ],
   "source": [
    "# make predictions on the testing set\n",
    "print(\"[INFO] evaluating network...\")\n",
    "predIdxs = model.predict(testX, batch_size=BS)"
   ]
  },
  {
   "cell_type": "code",
   "execution_count": 11,
   "metadata": {},
   "outputs": [],
   "source": [
    "# for each image in the testing set we need to find the index of the\n",
    "# label with corresponding largest predicted probability\n",
    "predIdxs = np.argmax(predIdxs, axis=1)"
   ]
  },
  {
   "cell_type": "code",
   "execution_count": 12,
   "metadata": {},
   "outputs": [
    {
     "name": "stderr",
     "output_type": "stream",
     "text": [
      "2020-10-06 10:48:02,482 - preproc - INFO -                               precision    recall  f1-score   support\n",
      "\n",
      "   ./data/big_data/with_mask       0.97      1.00      0.98       138\n",
      "./data/big_data/without_mask       1.00      0.96      0.98       138\n",
      "\n",
      "                    accuracy                           0.98       276\n",
      "                   macro avg       0.98      0.98      0.98       276\n",
      "                weighted avg       0.98      0.98      0.98       276\n",
      "\n"
     ]
    }
   ],
   "source": [
    "# show a nicely formatted classification report\n",
    "print(classification_report(testY.argmax(axis=1), predIdxs, target_names=lb.classes_))"
   ]
  },
  {
   "cell_type": "code",
   "execution_count": 13,
   "metadata": {},
   "outputs": [
    {
     "name": "stderr",
     "output_type": "stream",
     "text": [
      "2020-10-06 10:48:02,499 - preproc - INFO - [INFO] saving mask detector model...\n"
     ]
    }
   ],
   "source": [
    "# serialize the model to disk\n",
    "print(\"[INFO] saving mask detector model...\")\n",
    "model.save(modelPath, save_format=\"h5\")"
   ]
  },
  {
   "cell_type": "code",
   "execution_count": 14,
   "metadata": {},
   "outputs": [
    {
     "data": {
      "image/png": "[encoded data removed]",
      "text/plain": [
       "<Figure size 432x288 with 1 Axes>"
      ]
     },
     "metadata": {},
     "output_type": "display_data"
    }
   ],
   "source": [
    "# plot the training loss and accuracy\n",
    "N = EPOCHS\n",
    "plt.style.use(\"ggplot\")\n",
    "plt.figure()\n",
    "plt.plot(np.arange(0, N), H.history[\"loss\"], label=\"train_loss\")\n",
    "plt.plot(np.arange(0, N), H.history[\"val_loss\"], label=\"val_loss\")\n",
    "plt.plot(np.arange(0, N), H.history[\"accuracy\"], label=\"train_acc\")\n",
    "plt.plot(np.arange(0, N), H.history[\"val_accuracy\"], label=\"val_acc\")\n",
    "plt.title(\"Training Loss and Accuracy\")\n",
    "plt.xlabel(\"Epoch #\")\n",
    "plt.ylabel(\"Loss/Accuracy\")\n",
    "plt.legend(loc=\"lower left\")\n",
    "plt.savefig(plotPath)"
   ]
  },
  {
   "cell_type": "code",
   "execution_count": null,
   "metadata": {},
   "outputs": [],
   "source": []
  }
 ],
 "metadata": {
  "kernelspec": {
   "display_name": "Python 3",
   "language": "python",
   "name": "python3"
  },
  "language_info": {
   "codemirror_mode": {
    "name": "ipython",
    "version": 3
   },
   "file_extension": ".py",
   "mimetype": "text/x-python",
   "name": "python",
   "nbconvert_exporter": "python",
   "pygments_lexer": "ipython3",
   "version": "3.6.10"
  }
 },
 "nbformat": 4,
 "nbformat_minor": 4
}
